{
  "nbformat": 4,
  "nbformat_minor": 0,
  "metadata": {
    "colab": {
      "name": "Perceptrons as Logical Operators.ipynb",
      "provenance": []
    },
    "kernelspec": {
      "name": "python3",
      "display_name": "Python 3"
    }
  },
  "cells": [
    {
      "cell_type": "markdown",
      "metadata": {
        "id": "iWm6kyMBU57W"
      },
      "source": [
        "**AND perceptron**"
      ]
    },
    {
      "cell_type": "code",
      "metadata": {
        "colab": {
          "base_uri": "https://localhost:8080/"
        },
        "id": "u1dgpnNyU9xD",
        "outputId": "dbf05c59-9838-49d1-df56-17f674476806"
      },
      "source": [
        "import pandas as pd\r\n",
        "\r\n",
        "# TODO: Set weight1, weight2, and bias\r\n",
        "weight1 = 1.0\r\n",
        "weight2 = 1.0\r\n",
        "bias = -1.1\r\n",
        "\r\n",
        "# DON'T CHANGE ANYTHING BELOW\r\n",
        "# Inputs and outputs\r\n",
        "test_inputs = [(0, 0), (0, 1), (1, 0), (1, 1)]\r\n",
        "correct_outputs = [False, False, False, True]\r\n",
        "outputs = []\r\n",
        "\r\n",
        "# Generate and check output\r\n",
        "for test_input, correct_output in zip(test_inputs, correct_outputs):\r\n",
        "    linear_combination = weight1 * test_input[0] + weight2 * test_input[1] + bias\r\n",
        "    output = int(linear_combination >= 0)\r\n",
        "    is_correct_string = 'Yes' if output == correct_output else 'No'\r\n",
        "    outputs.append([test_input[0], test_input[1], linear_combination, output, is_correct_string])\r\n",
        "\r\n",
        "# Print output\r\n",
        "num_wrong = len([output[4] for output in outputs if output[4] == 'No'])\r\n",
        "output_frame = pd.DataFrame(outputs, columns=['Input 1', '  Input 2', '  Linear Combination', '  Activation Output', '  Is Correct'])\r\n",
        "if not num_wrong:\r\n",
        "    print('Nice!  You got it all correct.\\n')\r\n",
        "else:\r\n",
        "    print('You got {} wrong.  Keep trying!\\n'.format(num_wrong))\r\n",
        "print(output_frame.to_string(index=False))"
      ],
      "execution_count": 1,
      "outputs": [
        {
          "output_type": "stream",
          "text": [
            "Nice!  You got it all correct.\n",
            "\n",
            " Input 1    Input 2    Linear Combination    Activation Output   Is Correct\n",
            "       0          0                  -1.1                    0          Yes\n",
            "       0          1                  -0.1                    0          Yes\n",
            "       1          0                  -0.1                    0          Yes\n",
            "       1          1                   0.9                    1          Yes\n"
          ],
          "name": "stdout"
        }
      ]
    },
    {
      "cell_type": "markdown",
      "metadata": {
        "id": "Qs5PPh9jU2fT"
      },
      "source": [
        "**OR perceptron**"
      ]
    },
    {
      "cell_type": "code",
      "metadata": {
        "colab": {
          "base_uri": "https://localhost:8080/"
        },
        "id": "Xi1C216mUf_I",
        "outputId": "690a038f-fc5c-4615-8e8b-0f93a3572dda"
      },
      "source": [
        "import pandas as pd\r\n",
        "\r\n",
        "# TODO: Set weight1, weight2, and bias\r\n",
        "weight1 = 1\r\n",
        "weight2 = 1\r\n",
        "bias = -1\r\n",
        "\r\n",
        "# DON'T CHANGE ANYTHING BELOW\r\n",
        "# Inputs and outputs\r\n",
        "test_inputs = [(0, 0), (0, 1), (1, 0), (1, 1)]\r\n",
        "correct_outputs = [False, True, True, True]\r\n",
        "outputs = []\r\n",
        "\r\n",
        "# Generate and check output\r\n",
        "for test_input, correct_output in zip(test_inputs, correct_outputs):\r\n",
        "    linear_combination = weight1 * test_input[0] + weight2 * test_input[1] + bias\r\n",
        "    output = int(linear_combination >= 0)\r\n",
        "    is_correct_string = 'Yes' if output == correct_output else 'No'\r\n",
        "    outputs.append([test_input[0], test_input[1], linear_combination, output, is_correct_string])\r\n",
        "\r\n",
        "# Print output\r\n",
        "num_wrong = len([output[4] for output in outputs if output[4] == 'No'])\r\n",
        "output_frame = pd.DataFrame(outputs, columns=['Input 1', '  Input 2', '  Linear Combination', '  Activation Output', '  Is Correct'])\r\n",
        "if not num_wrong:\r\n",
        "    print('Nice!  You got it all correct.\\n')\r\n",
        "else:\r\n",
        "    print('You got {} wrong.  Keep trying!\\n'.format(num_wrong))\r\n",
        "print(output_frame.to_string(index=False))\r\n"
      ],
      "execution_count": 2,
      "outputs": [
        {
          "output_type": "stream",
          "text": [
            "Nice!  You got it all correct.\n",
            "\n",
            " Input 1    Input 2    Linear Combination    Activation Output   Is Correct\n",
            "       0          0                    -1                    0          Yes\n",
            "       0          1                     0                    1          Yes\n",
            "       1          0                     0                    1          Yes\n",
            "       1          1                     1                    1          Yes\n"
          ],
          "name": "stdout"
        }
      ]
    },
    {
      "cell_type": "markdown",
      "metadata": {
        "id": "v3Cb31soU0Zy"
      },
      "source": [
        "**NOT Perceptron**"
      ]
    },
    {
      "cell_type": "code",
      "metadata": {
        "colab": {
          "base_uri": "https://localhost:8080/"
        },
        "id": "WWGXgpQhXJaX",
        "outputId": "c8f0fd8f-0656-4840-d7a8-1bd5a5bd25ca"
      },
      "source": [
        "import pandas as pd\r\n",
        "\r\n",
        "# TODO: Set weight1, weight2, and bias\r\n",
        "weight1 = 0.0\r\n",
        "weight2 = -2.0\r\n",
        "bias = 1.0\r\n",
        "\r\n",
        "# DON'T CHANGE ANYTHING BELOW\r\n",
        "# Inputs and outputs\r\n",
        "test_inputs = [(0, 0), (0, 1), (1, 0), (1, 1)]\r\n",
        "correct_outputs = [True, False, True, False]\r\n",
        "outputs = []\r\n",
        "\r\n",
        "# Generate and check output\r\n",
        "for test_input, correct_output in zip(test_inputs, correct_outputs):\r\n",
        "    linear_combination = weight1 * test_input[0] + weight2 * test_input[1] + bias\r\n",
        "    output = int(linear_combination >= 0)\r\n",
        "    is_correct_string = 'Yes' if output == correct_output else 'No'\r\n",
        "    outputs.append([test_input[0], test_input[1], linear_combination, output, is_correct_string])\r\n",
        "\r\n",
        "# Print output\r\n",
        "num_wrong = len([output[4] for output in outputs if output[4] == 'No'])\r\n",
        "output_frame = pd.DataFrame(outputs, columns=['Input 1', '  Input 2', '  Linear Combination', '  Activation Output', '  Is Correct'])\r\n",
        "if not num_wrong:\r\n",
        "    print('Nice!  You got it all correct.\\n')\r\n",
        "else:\r\n",
        "    print('You got {} wrong.  Keep trying!\\n'.format(num_wrong))\r\n",
        "print(output_frame.to_string(index=False))\r\n"
      ],
      "execution_count": 3,
      "outputs": [
        {
          "output_type": "stream",
          "text": [
            "Nice!  You got it all correct.\n",
            "\n",
            " Input 1    Input 2    Linear Combination    Activation Output   Is Correct\n",
            "       0          0                   1.0                    1          Yes\n",
            "       0          1                  -1.0                    0          Yes\n",
            "       1          0                   1.0                    1          Yes\n",
            "       1          1                  -1.0                    0          Yes\n"
          ],
          "name": "stdout"
        }
      ]
    }
  ]
}